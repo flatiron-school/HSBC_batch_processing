{
 "cells": [
  {
   "cell_type": "markdown",
   "id": "42f38796",
   "metadata": {},
   "source": [
    "# Batch Processing\n",
    "\n",
    "## Objectives:\n",
    "- Understand batch processing and why it is used\n",
    "- Explore batch processing in Python with `joblib` library\n",
    "- Create batch ETL pipeline to update model and dashboard\n",
    "\n",
    "## What is Batch Processing\n",
    "\n",
    "### Definition\n",
    "- Jobs that can run without end user interaction, or can be scheduled to run as resources permit\n",
    "- Used for running high-volume, repetitive data jobs\n",
    "- Batch processing works in an **automated** way based on a **scheduler**\n",
    "\n",
    "More useful introductory discussion [here](https://www.talend.com/resources/batch-processing/).\n",
    "\n",
    "#### Batch vs Stream\n",
    "\n",
    "![img](https://res.cloudinary.com/hevo/images/f_auto,q_auto/v1649315584/hevo-learn/Batch-Processing-Batch-Processing-vs-Stream-Processing/Batch-Processing-Batch-Processing-vs-Stream-Processing.png?_i=AA)\n",
    "\n",
    "(Source: https://hevodata.com/learn/batch-processing/.)\n",
    "\n",
    "Batch processing is to be contrasted with serial or *stream* processing. Stream processing is critical when you need real-time updating of data reports or analyses. But if you are processing large chunks of data, it can be better to process it in batches.\n",
    "\n",
    "### Batch size\n",
    "The batch size refers to the number of work units to be processed within one batch operation. Some examples are:\n",
    "\n",
    "- The number of lines from a file to load into a database before committing the transaction.\n",
    "- The number of messages to dequeue from a queue.\n",
    "- The number of requests to send within one payload.\n",
    "\n",
    "### Common batch processing usage\n",
    "\n",
    "- Efficient bulk database updates and automated transaction processing, as contrasted to interactive online transaction processing (OLTP) applications.\n",
    "- The extract, transform, load (ETL) step in populating data warehouses is inherently a batch process in most implementations.\n",
    "- Performing bulk operations on digital images such as resizing, conversion, watermarking, or otherwise editing a group of image files.\n",
    "- Converting computer files from one format to another. For example, a batch job may convert proprietary and legacy files to common standard formats for end-user queries and display.\n",
    "\n",
    "(Source: https://en.wikipedia.org/wiki/Batch_processing.)"
   ]
  },
  {
   "cell_type": "code",
   "execution_count": 1,
   "id": "446ee73a",
   "metadata": {},
   "outputs": [
    {
     "name": "stderr",
     "output_type": "stream",
     "text": [
      "/Users/mattcarr/opt/anaconda3/envs/batch-env/lib/python3.10/site-packages/scipy/__init__.py:146: UserWarning: A NumPy version >=1.16.5 and <1.23.0 is required for this version of SciPy (detected version 1.23.4\n",
      "  warnings.warn(f\"A NumPy version >={np_minversion} and <{np_maxversion}\"\n"
     ]
    }
   ],
   "source": [
    "# Import Packages\n",
    "import sqlite3\n",
    "import time\n",
    "from joblib import Parallel, delayed, Memory\n",
    "from tqdm import tqdm\n",
    "\n",
    "import numpy as np\n",
    "import pandas as pd\n",
    "import matplotlib.pyplot as plt\n",
    "import seaborn as sns\n",
    "from prophet import Prophet"
   ]
  },
  {
   "cell_type": "markdown",
   "id": "6c64c215",
   "metadata": {},
   "source": [
    "## Today's Agenda\n",
    "\n",
    "Today we will be exploring batch processing through two examples:\n",
    "\n",
    "1. Use Python's `joblib` package\n",
    "1. Create simple batch ETL pipeline to continuously update a model and deploy to dashboard.\n",
    "\n",
    "## `joblib`\n",
    "\n",
    "### Advantages\n",
    "\n",
    "- Disk Caching of Functions & Lazy Re-Evaluation\n",
    "\n",
    "Cache the results of expensive function calls for later use. Useful during pipeline development.\n",
    "\n",
    "- Parallel Computing\n",
    "\n",
    "Execute multiple operations at the same time.\n",
    "\n",
    "### Caching of Functions"
   ]
  },
  {
   "cell_type": "code",
   "execution_count": 2,
   "id": "71b04404",
   "metadata": {},
   "outputs": [
    {
     "name": "stdout",
     "output_type": "stream",
     "text": [
      "\n",
      "The function took 20.08 s to compute.\n",
      "[1, 4, 9, 16, 25, 36, 49, 64, 81, 100, 121, 144, 169, 196, 225, 256, 289, 324, 361, 400]\n"
     ]
    }
   ],
   "source": [
    "result = []\n",
    "\n",
    "# Getting the square of the number:\n",
    "def square_number(no):\n",
    "    return (no*no)\n",
    "\n",
    "# Function to compute square of a range of a number:\n",
    "def get_square_range(start_no, end_no):\n",
    "    for i in np.arange(start_no, end_no):\n",
    "        time.sleep(1)\n",
    "        result.append(square_number(i))\n",
    "    return result\n",
    "\n",
    "start = time.time()\n",
    "# Getting square of 1 to 20:\n",
    "final_result = get_square_range(1, 21)\n",
    "end = time.time()\n",
    "\n",
    "# Total time to compute\n",
    "print('\\nThe function took {:.2f} s to compute.'.format(end - start))\n",
    "print(final_result)"
   ]
  },
  {
   "cell_type": "code",
   "execution_count": 8,
   "id": "d112784f",
   "metadata": {},
   "outputs": [
    {
     "name": "stdout",
     "output_type": "stream",
     "text": [
      "\n",
      "The function took 21.08 s to compute.\n",
      "[400, 441, 484, 529, 576, 625, 676, 729, 784, 841, 900, 961, 1024, 1089, 1156, 1225, 1296, 1369, 1444, 1521, 1600]\n"
     ]
    }
   ],
   "source": [
    "# COMPLETE: Define a location to store cache\n",
    "location = '/Library/caches'\n",
    "memory = Memory(location, verbose=0)\n",
    "\n",
    "result = []\n",
    "\n",
    "# Function to compute square of a range of a number:\n",
    "def get_square_range_cached(start_no, end_no):\n",
    "    for i in np.arange(start_no, end_no):\n",
    "        time.sleep(1)\n",
    "        result.append(square_number(i))\n",
    "    return result\n",
    "\n",
    "# COMPLETE: Cash results of function\n",
    "get_square_range_cached = memory.cache(get_square_range_cached)\n",
    "\n",
    "start = time.time()\n",
    "# Getting square of 1 to 20:\n",
    "final_result = get_square_range_cached(20, 41)\n",
    "end = time.time()\n",
    "\n",
    "# Total time to compute\n",
    "print('\\nThe function took {:.2f} s to compute.'.format(end - start))\n",
    "print(final_result)"
   ]
  },
  {
   "cell_type": "code",
   "execution_count": 9,
   "id": "97d7c22f",
   "metadata": {},
   "outputs": [
    {
     "name": "stdout",
     "output_type": "stream",
     "text": [
      "\n",
      "The function took 0.00 s to compute.\n",
      "[400, 441, 484, 529, 576, 625, 676, 729, 784, 841, 900, 961, 1024, 1089, 1156, 1225, 1296, 1369, 1444, 1521, 1600]\n"
     ]
    }
   ],
   "source": [
    "start = time.time()\n",
    "# Getting square of 1 to 20:\n",
    "final_result = get_square_range_cached(20, 41)\n",
    "end = time.time()\n",
    "\n",
    "print('\\nThe function took {:.2f} s to compute.'.format(end - start))\n",
    "print(final_result)"
   ]
  },
  {
   "cell_type": "markdown",
   "id": "0099e346",
   "metadata": {},
   "source": [
    "### Parallelizing\n",
    "\n",
    "The function below is based on the following mathematical theorem:\n",
    "\n",
    "$\\large\\frac{\\pi}{4} = 1 - \\frac{1}{3} + \\frac{1}{5} - \\frac{1}{7} + \\frac{1}{9} - ... = lim_{n\\rightarrow\\infty}\\sum^n_{j=0}\\frac{(-1)^j}{2j+1}$"
   ]
  },
  {
   "cell_type": "code",
   "execution_count": 10,
   "id": "4efe7e02",
   "metadata": {},
   "outputs": [],
   "source": [
    "def batch_process_function(row, order, payload):\n",
    "    \"\"\"\n",
    "    Simulate process function\n",
    "    \n",
    "    Row and payload are ignored.\n",
    "    \n",
    "    Approximate pi\n",
    "    \"\"\"\n",
    "    k, pi = 1, 0\n",
    "    for i in range(10**order):\n",
    "        if i % 2 == 0: # even\n",
    "            pi += 4 / k\n",
    "        else:  # odd \n",
    "            pi -= 4 / k \n",
    "        k += 2\n",
    "    return pi"
   ]
  },
  {
   "cell_type": "code",
   "execution_count": 11,
   "id": "f4620f23",
   "metadata": {},
   "outputs": [],
   "source": [
    "# Settings\n",
    "order = 6\n",
    "N = 1000\n",
    "items = range(N)"
   ]
  },
  {
   "cell_type": "markdown",
   "id": "2984907e",
   "metadata": {},
   "source": [
    "#### Serial"
   ]
  },
  {
   "cell_type": "code",
   "execution_count": 12,
   "id": "f587df0a",
   "metadata": {},
   "outputs": [
    {
     "name": "stdout",
     "output_type": "stream",
     "text": [
      "CPU times: user 2min 15s, sys: 1.1 s, total: 2min 16s\n",
      "Wall time: 2min 17s\n"
     ]
    }
   ],
   "source": [
    "%%time\n",
    "\n",
    "result = [batch_process_function(row, order, None) for row in items]"
   ]
  },
  {
   "cell_type": "markdown",
   "id": "03319e04",
   "metadata": {},
   "source": [
    "#### Batch"
   ]
  },
  {
   "cell_type": "code",
   "execution_count": 13,
   "id": "620ba1ea",
   "metadata": {},
   "outputs": [
    {
     "name": "stderr",
     "output_type": "stream",
     "text": [
      "100%|████████████████████████████████████████████████████████████| 1000/1000 [00:31<00:00, 31.32it/s]\n"
     ]
    },
    {
     "name": "stdout",
     "output_type": "stream",
     "text": [
      "CPU times: user 983 ms, sys: 285 ms, total: 1.27 s\n",
      "Wall time: 32.4 s\n"
     ]
    }
   ],
   "source": [
    "%%time\n",
    "\n",
    "# Parallel using joblib and a progress bar using tqdm\n",
    "result = Parallel(n_jobs=8)(\n",
    "    delayed(batch_process_function)\n",
    "    (row, order, None)\n",
    "    for row in tqdm(items)\n",
    ")"
   ]
  },
  {
   "cell_type": "markdown",
   "id": "a1d3a1a9",
   "metadata": {},
   "source": [
    "## Batch ETL Pipeline\n",
    "\n",
    "Next we will walk through a simple example of a batch ETL pipeline that can be used to update a model and deploy it to a dashboard.\n",
    "\n",
    "### Scenario\n",
    "\n",
    "We work for a store that is interested in forecasting their future sales. They have a model that forecasts total daily sales for the upcoming month. They would like us to create a pipeline that will automatically update the model on a weekly basis and deploy the results to a dashboard.\n",
    "\n",
    "### Tasks:\n",
    "- Extract recent sales data from database\n",
    "- Transform to appropriate format for time series model\n",
    "- Load to \"Data Warehouse\"\n",
    "- Train model on most recent data and deploy forecasts to dashboard"
   ]
  },
  {
   "cell_type": "code",
   "execution_count": 14,
   "id": "6815402b",
   "metadata": {},
   "outputs": [],
   "source": [
    "sales_con = sqlite3.connect('data/sales.db')\n",
    "warehouse_con = sqlite3.connect('data/warehouse.db')"
   ]
  },
  {
   "cell_type": "code",
   "execution_count": 16,
   "id": "b24132f6",
   "metadata": {},
   "outputs": [
    {
     "data": {
      "text/html": [
       "<div>\n",
       "<style scoped>\n",
       "    .dataframe tbody tr th:only-of-type {\n",
       "        vertical-align: middle;\n",
       "    }\n",
       "\n",
       "    .dataframe tbody tr th {\n",
       "        vertical-align: top;\n",
       "    }\n",
       "\n",
       "    .dataframe thead th {\n",
       "        text-align: right;\n",
       "    }\n",
       "</style>\n",
       "<table border=\"1\" class=\"dataframe\">\n",
       "  <thead>\n",
       "    <tr style=\"text-align: right;\">\n",
       "      <th></th>\n",
       "      <th>order_id</th>\n",
       "      <th>order_date</th>\n",
       "      <th>customer_id</th>\n",
       "      <th>region</th>\n",
       "      <th>product_id</th>\n",
       "      <th>category</th>\n",
       "      <th>sales</th>\n",
       "      <th>quantity</th>\n",
       "    </tr>\n",
       "  </thead>\n",
       "  <tbody>\n",
       "    <tr>\n",
       "      <th>0</th>\n",
       "      <td>CA-2014-103800</td>\n",
       "      <td>1/3/2018</td>\n",
       "      <td>DP-13000</td>\n",
       "      <td>Central</td>\n",
       "      <td>OFF-PA-10000174</td>\n",
       "      <td>Office Supplies</td>\n",
       "      <td>16.448</td>\n",
       "      <td>2</td>\n",
       "    </tr>\n",
       "    <tr>\n",
       "      <th>1</th>\n",
       "      <td>CA-2014-112326</td>\n",
       "      <td>1/4/2018</td>\n",
       "      <td>PO-19195</td>\n",
       "      <td>Central</td>\n",
       "      <td>OFF-LA-10003223</td>\n",
       "      <td>Office Supplies</td>\n",
       "      <td>11.784</td>\n",
       "      <td>3</td>\n",
       "    </tr>\n",
       "    <tr>\n",
       "      <th>2</th>\n",
       "      <td>CA-2014-112326</td>\n",
       "      <td>1/4/2018</td>\n",
       "      <td>PO-19195</td>\n",
       "      <td>Central</td>\n",
       "      <td>OFF-ST-10002743</td>\n",
       "      <td>Office Supplies</td>\n",
       "      <td>272.736</td>\n",
       "      <td>3</td>\n",
       "    </tr>\n",
       "    <tr>\n",
       "      <th>3</th>\n",
       "      <td>CA-2014-141817</td>\n",
       "      <td>1/5/2018</td>\n",
       "      <td>MB-18085</td>\n",
       "      <td>East</td>\n",
       "      <td>OFF-AR-10003478</td>\n",
       "      <td>Office Supplies</td>\n",
       "      <td>19.536</td>\n",
       "      <td>3</td>\n",
       "    </tr>\n",
       "    <tr>\n",
       "      <th>4</th>\n",
       "      <td>CA-2014-130813</td>\n",
       "      <td>1/6/2018</td>\n",
       "      <td>LS-17230</td>\n",
       "      <td>West</td>\n",
       "      <td>OFF-PA-10002005</td>\n",
       "      <td>Office Supplies</td>\n",
       "      <td>19.440</td>\n",
       "      <td>3</td>\n",
       "    </tr>\n",
       "  </tbody>\n",
       "</table>\n",
       "</div>"
      ],
      "text/plain": [
       "         order_id order_date customer_id   region       product_id  \\\n",
       "0  CA-2014-103800   1/3/2018    DP-13000  Central  OFF-PA-10000174   \n",
       "1  CA-2014-112326   1/4/2018    PO-19195  Central  OFF-LA-10003223   \n",
       "2  CA-2014-112326   1/4/2018    PO-19195  Central  OFF-ST-10002743   \n",
       "3  CA-2014-141817   1/5/2018    MB-18085     East  OFF-AR-10003478   \n",
       "4  CA-2014-130813   1/6/2018    LS-17230     West  OFF-PA-10002005   \n",
       "\n",
       "          category    sales  quantity  \n",
       "0  Office Supplies   16.448         2  \n",
       "1  Office Supplies   11.784         3  \n",
       "2  Office Supplies  272.736         3  \n",
       "3  Office Supplies   19.536         3  \n",
       "4  Office Supplies   19.440         3  "
      ]
     },
     "execution_count": 16,
     "metadata": {},
     "output_type": "execute_result"
    }
   ],
   "source": [
    "sales_df = pd.read_sql('SELECT * FROM customer_sales;', sales_con)\n",
    "sales_df.head()"
   ]
  },
  {
   "cell_type": "code",
   "execution_count": 17,
   "id": "d3449b4f",
   "metadata": {},
   "outputs": [],
   "source": [
    "def extract_sales(db_con):\n",
    "    \n",
    "    sales_df = pd.read_sql('SELECT * FROM customer_sales;', db_con)\n",
    "    \n",
    "    assert type(sales_df) == pd.DataFrame\n",
    "    \n",
    "    return sales_df"
   ]
  },
  {
   "cell_type": "markdown",
   "id": "17789554",
   "metadata": {},
   "source": [
    "Transform data for model:\n",
    "- Aggregate total daily sales\n",
    "- Format for Prophet model"
   ]
  },
  {
   "cell_type": "code",
   "execution_count": 19,
   "id": "acc6623f",
   "metadata": {},
   "outputs": [],
   "source": [
    "sales_df['order_date'] = pd.to_datetime(sales_df['order_date'])"
   ]
  },
  {
   "cell_type": "code",
   "execution_count": 22,
   "id": "ae095d2e",
   "metadata": {},
   "outputs": [
    {
     "data": {
      "text/html": [
       "<div>\n",
       "<style scoped>\n",
       "    .dataframe tbody tr th:only-of-type {\n",
       "        vertical-align: middle;\n",
       "    }\n",
       "\n",
       "    .dataframe tbody tr th {\n",
       "        vertical-align: top;\n",
       "    }\n",
       "\n",
       "    .dataframe thead th {\n",
       "        text-align: right;\n",
       "    }\n",
       "</style>\n",
       "<table border=\"1\" class=\"dataframe\">\n",
       "  <thead>\n",
       "    <tr style=\"text-align: right;\">\n",
       "      <th></th>\n",
       "      <th>order_date</th>\n",
       "      <th>sales</th>\n",
       "    </tr>\n",
       "  </thead>\n",
       "  <tbody>\n",
       "    <tr>\n",
       "      <th>0</th>\n",
       "      <td>2018-01-03</td>\n",
       "      <td>16.448</td>\n",
       "    </tr>\n",
       "    <tr>\n",
       "      <th>1</th>\n",
       "      <td>2018-01-04</td>\n",
       "      <td>284.520</td>\n",
       "    </tr>\n",
       "    <tr>\n",
       "      <th>2</th>\n",
       "      <td>2018-01-05</td>\n",
       "      <td>19.536</td>\n",
       "    </tr>\n",
       "    <tr>\n",
       "      <th>3</th>\n",
       "      <td>2018-01-06</td>\n",
       "      <td>455.320</td>\n",
       "    </tr>\n",
       "    <tr>\n",
       "      <th>4</th>\n",
       "      <td>2018-01-07</td>\n",
       "      <td>87.158</td>\n",
       "    </tr>\n",
       "  </tbody>\n",
       "</table>\n",
       "</div>"
      ],
      "text/plain": [
       "  order_date    sales\n",
       "0 2018-01-03   16.448\n",
       "1 2018-01-04  284.520\n",
       "2 2018-01-05   19.536\n",
       "3 2018-01-06  455.320\n",
       "4 2018-01-07   87.158"
      ]
     },
     "execution_count": 22,
     "metadata": {},
     "output_type": "execute_result"
    }
   ],
   "source": [
    "agg_df = sales_df.groupby('order_date').sum()['sales'].reset_index()\n",
    "agg_df.head()"
   ]
  },
  {
   "cell_type": "code",
   "execution_count": 23,
   "id": "96de45ee",
   "metadata": {},
   "outputs": [
    {
     "data": {
      "text/html": [
       "<div>\n",
       "<style scoped>\n",
       "    .dataframe tbody tr th:only-of-type {\n",
       "        vertical-align: middle;\n",
       "    }\n",
       "\n",
       "    .dataframe tbody tr th {\n",
       "        vertical-align: top;\n",
       "    }\n",
       "\n",
       "    .dataframe thead th {\n",
       "        text-align: right;\n",
       "    }\n",
       "</style>\n",
       "<table border=\"1\" class=\"dataframe\">\n",
       "  <thead>\n",
       "    <tr style=\"text-align: right;\">\n",
       "      <th></th>\n",
       "      <th>ds</th>\n",
       "      <th>y</th>\n",
       "    </tr>\n",
       "  </thead>\n",
       "  <tbody>\n",
       "    <tr>\n",
       "      <th>0</th>\n",
       "      <td>2018-01-03</td>\n",
       "      <td>16.448</td>\n",
       "    </tr>\n",
       "    <tr>\n",
       "      <th>1</th>\n",
       "      <td>2018-01-04</td>\n",
       "      <td>284.520</td>\n",
       "    </tr>\n",
       "    <tr>\n",
       "      <th>2</th>\n",
       "      <td>2018-01-05</td>\n",
       "      <td>19.536</td>\n",
       "    </tr>\n",
       "    <tr>\n",
       "      <th>3</th>\n",
       "      <td>2018-01-06</td>\n",
       "      <td>455.320</td>\n",
       "    </tr>\n",
       "    <tr>\n",
       "      <th>4</th>\n",
       "      <td>2018-01-07</td>\n",
       "      <td>87.158</td>\n",
       "    </tr>\n",
       "  </tbody>\n",
       "</table>\n",
       "</div>"
      ],
      "text/plain": [
       "          ds        y\n",
       "0 2018-01-03   16.448\n",
       "1 2018-01-04  284.520\n",
       "2 2018-01-05   19.536\n",
       "3 2018-01-06  455.320\n",
       "4 2018-01-07   87.158"
      ]
     },
     "execution_count": 23,
     "metadata": {},
     "output_type": "execute_result"
    }
   ],
   "source": [
    "agg_df.columns = ['ds', 'y']\n",
    "agg_df.head()"
   ]
  },
  {
   "cell_type": "code",
   "execution_count": 24,
   "id": "16ca14eb",
   "metadata": {},
   "outputs": [],
   "source": [
    "def transform_sales_data(df):\n",
    "    \n",
    "    df['order_date'] = pd.to_datetime(df['order_date'])\n",
    "    \n",
    "    daily_sales = df.groupby('order_date').sum()['sales'].reset_index()\n",
    "    \n",
    "    daily_sales.columns = ['ds', 'y']\n",
    "    \n",
    "    assert len(daily_sales.columns) == 2\n",
    "    \n",
    "    return daily_sales"
   ]
  },
  {
   "cell_type": "markdown",
   "id": "8d0af570",
   "metadata": {},
   "source": [
    "Load data into our data warehouse (sqlite warehouse)"
   ]
  },
  {
   "cell_type": "code",
   "execution_count": 27,
   "id": "e62e0ad8",
   "metadata": {},
   "outputs": [
    {
     "data": {
      "text/plain": [
       "868"
      ]
     },
     "execution_count": 27,
     "metadata": {},
     "output_type": "execute_result"
    }
   ],
   "source": [
    "agg_df.to_sql('daily_sales', warehouse_con, index=False)"
   ]
  },
  {
   "cell_type": "code",
   "execution_count": 30,
   "id": "fa724b77",
   "metadata": {},
   "outputs": [
    {
     "data": {
      "text/plain": [
       "'2020-12-14 00:00:00'"
      ]
     },
     "execution_count": 30,
     "metadata": {},
     "output_type": "execute_result"
    }
   ],
   "source": [
    "most_recent_date = pd.read_sql('SELECT MAX(ds) FROM daily_sales;', warehouse_con)['MAX(ds)'].values[0]\n",
    "most_recent_date"
   ]
  },
  {
   "cell_type": "code",
   "execution_count": 33,
   "id": "6b32d41d",
   "metadata": {},
   "outputs": [],
   "source": [
    "new_daily_sales = agg_df.loc[agg_df['ds'] > most_recent_date]"
   ]
  },
  {
   "cell_type": "code",
   "execution_count": 34,
   "id": "af8f5103",
   "metadata": {},
   "outputs": [],
   "source": [
    "if len(new_daily_sales) > 0:\n",
    "    new_daily_sales.to_sql('daily_sales', warehouse_con, if_exists='append', index=False)"
   ]
  },
  {
   "cell_type": "code",
   "execution_count": 35,
   "id": "0a7fe43d",
   "metadata": {},
   "outputs": [],
   "source": [
    "def load_sales_to_warehouse(df, db_con):\n",
    "    \n",
    "    try:\n",
    "        most_recent_date = pd.read_sql('SELECT MAX(ds) FROM daily_sales;', db_con)['MAX(ds)'].values[0]\n",
    "\n",
    "        new_daily_sales = df.loc[df['ds'] > most_recent_date]\n",
    "\n",
    "        if len(new_daily_sales) > 0:\n",
    "            new_daily_sales.to_sql('daily_sales', warehouse_con, if_exists='append', index=False)\n",
    "    except:\n",
    "        df.to_sql('daily_sales', db_con, if_exists='append', index=False)"
   ]
  },
  {
   "cell_type": "markdown",
   "id": "688b1bd4",
   "metadata": {},
   "source": [
    "Model new data and update forecasts"
   ]
  },
  {
   "cell_type": "code",
   "execution_count": 37,
   "id": "1eb5dbd0",
   "metadata": {},
   "outputs": [
    {
     "data": {
      "text/plain": [
       "<prophet.forecaster.Prophet at 0x7ffe1c8c6ce0>"
      ]
     },
     "execution_count": 37,
     "metadata": {},
     "output_type": "execute_result"
    }
   ],
   "source": [
    "model = Prophet()\n",
    "model.add_country_holidays(country_name='US')\n",
    "model.add_seasonality(name='monthly', period=30.5, fourier_order=4)"
   ]
  },
  {
   "cell_type": "code",
   "execution_count": 38,
   "id": "eb0fe96a",
   "metadata": {},
   "outputs": [
    {
     "data": {
      "text/html": [
       "<div>\n",
       "<style scoped>\n",
       "    .dataframe tbody tr th:only-of-type {\n",
       "        vertical-align: middle;\n",
       "    }\n",
       "\n",
       "    .dataframe tbody tr th {\n",
       "        vertical-align: top;\n",
       "    }\n",
       "\n",
       "    .dataframe thead th {\n",
       "        text-align: right;\n",
       "    }\n",
       "</style>\n",
       "<table border=\"1\" class=\"dataframe\">\n",
       "  <thead>\n",
       "    <tr style=\"text-align: right;\">\n",
       "      <th></th>\n",
       "      <th>ds</th>\n",
       "      <th>y</th>\n",
       "    </tr>\n",
       "  </thead>\n",
       "  <tbody>\n",
       "    <tr>\n",
       "      <th>0</th>\n",
       "      <td>2018-01-03 00:00:00</td>\n",
       "      <td>16.448</td>\n",
       "    </tr>\n",
       "    <tr>\n",
       "      <th>1</th>\n",
       "      <td>2018-01-04 00:00:00</td>\n",
       "      <td>284.520</td>\n",
       "    </tr>\n",
       "    <tr>\n",
       "      <th>2</th>\n",
       "      <td>2018-01-05 00:00:00</td>\n",
       "      <td>19.536</td>\n",
       "    </tr>\n",
       "    <tr>\n",
       "      <th>3</th>\n",
       "      <td>2018-01-06 00:00:00</td>\n",
       "      <td>455.320</td>\n",
       "    </tr>\n",
       "    <tr>\n",
       "      <th>4</th>\n",
       "      <td>2018-01-07 00:00:00</td>\n",
       "      <td>87.158</td>\n",
       "    </tr>\n",
       "  </tbody>\n",
       "</table>\n",
       "</div>"
      ],
      "text/plain": [
       "                    ds        y\n",
       "0  2018-01-03 00:00:00   16.448\n",
       "1  2018-01-04 00:00:00  284.520\n",
       "2  2018-01-05 00:00:00   19.536\n",
       "3  2018-01-06 00:00:00  455.320\n",
       "4  2018-01-07 00:00:00   87.158"
      ]
     },
     "execution_count": 38,
     "metadata": {},
     "output_type": "execute_result"
    }
   ],
   "source": [
    "model_df = pd.read_sql('SELECT * FROM daily_sales;', warehouse_con)\n",
    "model_df.head()"
   ]
  },
  {
   "cell_type": "code",
   "execution_count": 40,
   "id": "99af7c03",
   "metadata": {},
   "outputs": [
    {
     "data": {
      "text/html": [
       "<div>\n",
       "<style scoped>\n",
       "    .dataframe tbody tr th:only-of-type {\n",
       "        vertical-align: middle;\n",
       "    }\n",
       "\n",
       "    .dataframe tbody tr th {\n",
       "        vertical-align: top;\n",
       "    }\n",
       "\n",
       "    .dataframe thead th {\n",
       "        text-align: right;\n",
       "    }\n",
       "</style>\n",
       "<table border=\"1\" class=\"dataframe\">\n",
       "  <thead>\n",
       "    <tr style=\"text-align: right;\">\n",
       "      <th></th>\n",
       "      <th>ds</th>\n",
       "      <th>y</th>\n",
       "    </tr>\n",
       "  </thead>\n",
       "  <tbody>\n",
       "    <tr>\n",
       "      <th>863</th>\n",
       "      <td>2020-12-10 00:00:00</td>\n",
       "      <td>1348.370</td>\n",
       "    </tr>\n",
       "    <tr>\n",
       "      <th>864</th>\n",
       "      <td>2020-12-11 00:00:00</td>\n",
       "      <td>4167.620</td>\n",
       "    </tr>\n",
       "    <tr>\n",
       "      <th>865</th>\n",
       "      <td>2020-12-12 00:00:00</td>\n",
       "      <td>1323.185</td>\n",
       "    </tr>\n",
       "    <tr>\n",
       "      <th>866</th>\n",
       "      <td>2020-12-13 00:00:00</td>\n",
       "      <td>63.880</td>\n",
       "    </tr>\n",
       "    <tr>\n",
       "      <th>867</th>\n",
       "      <td>2020-12-14 00:00:00</td>\n",
       "      <td>822.894</td>\n",
       "    </tr>\n",
       "  </tbody>\n",
       "</table>\n",
       "</div>"
      ],
      "text/plain": [
       "                      ds         y\n",
       "863  2020-12-10 00:00:00  1348.370\n",
       "864  2020-12-11 00:00:00  4167.620\n",
       "865  2020-12-12 00:00:00  1323.185\n",
       "866  2020-12-13 00:00:00    63.880\n",
       "867  2020-12-14 00:00:00   822.894"
      ]
     },
     "execution_count": 40,
     "metadata": {},
     "output_type": "execute_result"
    }
   ],
   "source": [
    "model_df.tail()"
   ]
  },
  {
   "cell_type": "code",
   "execution_count": 39,
   "id": "7ea50fa4",
   "metadata": {},
   "outputs": [
    {
     "name": "stderr",
     "output_type": "stream",
     "text": [
      "11:16:21 - cmdstanpy - INFO - Chain [1] start processing\n",
      "11:16:21 - cmdstanpy - INFO - Chain [1] done processing\n"
     ]
    },
    {
     "data": {
      "text/plain": [
       "<prophet.forecaster.Prophet at 0x7ffe1c8c6ce0>"
      ]
     },
     "execution_count": 39,
     "metadata": {},
     "output_type": "execute_result"
    }
   ],
   "source": [
    "model.fit(model_df)"
   ]
  },
  {
   "cell_type": "code",
   "execution_count": 41,
   "id": "93fd1106",
   "metadata": {},
   "outputs": [
    {
     "data": {
      "text/html": [
       "<div>\n",
       "<style scoped>\n",
       "    .dataframe tbody tr th:only-of-type {\n",
       "        vertical-align: middle;\n",
       "    }\n",
       "\n",
       "    .dataframe tbody tr th {\n",
       "        vertical-align: top;\n",
       "    }\n",
       "\n",
       "    .dataframe thead th {\n",
       "        text-align: right;\n",
       "    }\n",
       "</style>\n",
       "<table border=\"1\" class=\"dataframe\">\n",
       "  <thead>\n",
       "    <tr style=\"text-align: right;\">\n",
       "      <th></th>\n",
       "      <th>ds</th>\n",
       "    </tr>\n",
       "  </thead>\n",
       "  <tbody>\n",
       "    <tr>\n",
       "      <th>893</th>\n",
       "      <td>2021-01-09</td>\n",
       "    </tr>\n",
       "    <tr>\n",
       "      <th>894</th>\n",
       "      <td>2021-01-10</td>\n",
       "    </tr>\n",
       "    <tr>\n",
       "      <th>895</th>\n",
       "      <td>2021-01-11</td>\n",
       "    </tr>\n",
       "    <tr>\n",
       "      <th>896</th>\n",
       "      <td>2021-01-12</td>\n",
       "    </tr>\n",
       "    <tr>\n",
       "      <th>897</th>\n",
       "      <td>2021-01-13</td>\n",
       "    </tr>\n",
       "  </tbody>\n",
       "</table>\n",
       "</div>"
      ],
      "text/plain": [
       "            ds\n",
       "893 2021-01-09\n",
       "894 2021-01-10\n",
       "895 2021-01-11\n",
       "896 2021-01-12\n",
       "897 2021-01-13"
      ]
     },
     "execution_count": 41,
     "metadata": {},
     "output_type": "execute_result"
    }
   ],
   "source": [
    "future = model.make_future_dataframe(periods=30)\n",
    "future.tail()"
   ]
  },
  {
   "cell_type": "code",
   "execution_count": 43,
   "id": "1c8f1c29",
   "metadata": {},
   "outputs": [
    {
     "data": {
      "text/html": [
       "<div>\n",
       "<style scoped>\n",
       "    .dataframe tbody tr th:only-of-type {\n",
       "        vertical-align: middle;\n",
       "    }\n",
       "\n",
       "    .dataframe tbody tr th {\n",
       "        vertical-align: top;\n",
       "    }\n",
       "\n",
       "    .dataframe thead th {\n",
       "        text-align: right;\n",
       "    }\n",
       "</style>\n",
       "<table border=\"1\" class=\"dataframe\">\n",
       "  <thead>\n",
       "    <tr style=\"text-align: right;\">\n",
       "      <th></th>\n",
       "      <th>ds</th>\n",
       "      <th>yhat</th>\n",
       "    </tr>\n",
       "  </thead>\n",
       "  <tbody>\n",
       "    <tr>\n",
       "      <th>868</th>\n",
       "      <td>2020-12-15</td>\n",
       "      <td>1100.915749</td>\n",
       "    </tr>\n",
       "    <tr>\n",
       "      <th>869</th>\n",
       "      <td>2020-12-16</td>\n",
       "      <td>1178.343819</td>\n",
       "    </tr>\n",
       "    <tr>\n",
       "      <th>870</th>\n",
       "      <td>2020-12-17</td>\n",
       "      <td>1100.773295</td>\n",
       "    </tr>\n",
       "    <tr>\n",
       "      <th>871</th>\n",
       "      <td>2020-12-18</td>\n",
       "      <td>1190.926560</td>\n",
       "    </tr>\n",
       "    <tr>\n",
       "      <th>872</th>\n",
       "      <td>2020-12-19</td>\n",
       "      <td>1210.664972</td>\n",
       "    </tr>\n",
       "    <tr>\n",
       "      <th>873</th>\n",
       "      <td>2020-12-20</td>\n",
       "      <td>1071.674174</td>\n",
       "    </tr>\n",
       "    <tr>\n",
       "      <th>874</th>\n",
       "      <td>2020-12-21</td>\n",
       "      <td>806.540141</td>\n",
       "    </tr>\n",
       "    <tr>\n",
       "      <th>875</th>\n",
       "      <td>2020-12-22</td>\n",
       "      <td>1057.901224</td>\n",
       "    </tr>\n",
       "    <tr>\n",
       "      <th>876</th>\n",
       "      <td>2020-12-23</td>\n",
       "      <td>1118.752971</td>\n",
       "    </tr>\n",
       "    <tr>\n",
       "      <th>877</th>\n",
       "      <td>2020-12-24</td>\n",
       "      <td>1016.014012</td>\n",
       "    </tr>\n",
       "    <tr>\n",
       "      <th>878</th>\n",
       "      <td>2020-12-25</td>\n",
       "      <td>1638.705460</td>\n",
       "    </tr>\n",
       "    <tr>\n",
       "      <th>879</th>\n",
       "      <td>2020-12-26</td>\n",
       "      <td>1071.544736</td>\n",
       "    </tr>\n",
       "    <tr>\n",
       "      <th>880</th>\n",
       "      <td>2020-12-27</td>\n",
       "      <td>902.657809</td>\n",
       "    </tr>\n",
       "    <tr>\n",
       "      <th>881</th>\n",
       "      <td>2020-12-28</td>\n",
       "      <td>600.649007</td>\n",
       "    </tr>\n",
       "    <tr>\n",
       "      <th>882</th>\n",
       "      <td>2020-12-29</td>\n",
       "      <td>808.648225</td>\n",
       "    </tr>\n",
       "    <tr>\n",
       "      <th>883</th>\n",
       "      <td>2020-12-30</td>\n",
       "      <td>828.145595</td>\n",
       "    </tr>\n",
       "    <tr>\n",
       "      <th>884</th>\n",
       "      <td>2020-12-31</td>\n",
       "      <td>700.173057</td>\n",
       "    </tr>\n",
       "    <tr>\n",
       "      <th>885</th>\n",
       "      <td>2021-01-01</td>\n",
       "      <td>766.255369</td>\n",
       "    </tr>\n",
       "    <tr>\n",
       "      <th>886</th>\n",
       "      <td>2021-01-02</td>\n",
       "      <td>792.788857</td>\n",
       "    </tr>\n",
       "    <tr>\n",
       "      <th>887</th>\n",
       "      <td>2021-01-03</td>\n",
       "      <td>677.200588</td>\n",
       "    </tr>\n",
       "    <tr>\n",
       "      <th>888</th>\n",
       "      <td>2021-01-04</td>\n",
       "      <td>426.880999</td>\n",
       "    </tr>\n",
       "    <tr>\n",
       "      <th>889</th>\n",
       "      <td>2021-01-05</td>\n",
       "      <td>664.153104</td>\n",
       "    </tr>\n",
       "    <tr>\n",
       "      <th>890</th>\n",
       "      <td>2021-01-06</td>\n",
       "      <td>680.437244</td>\n",
       "    </tr>\n",
       "    <tr>\n",
       "      <th>891</th>\n",
       "      <td>2021-01-07</td>\n",
       "      <td>522.580846</td>\n",
       "    </tr>\n",
       "    <tr>\n",
       "      <th>892</th>\n",
       "      <td>2021-01-08</td>\n",
       "      <td>550.508477</td>\n",
       "    </tr>\n",
       "    <tr>\n",
       "      <th>893</th>\n",
       "      <td>2021-01-09</td>\n",
       "      <td>551.672420</td>\n",
       "    </tr>\n",
       "    <tr>\n",
       "      <th>894</th>\n",
       "      <td>2021-01-10</td>\n",
       "      <td>436.326665</td>\n",
       "    </tr>\n",
       "    <tr>\n",
       "      <th>895</th>\n",
       "      <td>2021-01-11</td>\n",
       "      <td>210.756367</td>\n",
       "    </tr>\n",
       "    <tr>\n",
       "      <th>896</th>\n",
       "      <td>2021-01-12</td>\n",
       "      <td>484.683265</td>\n",
       "    </tr>\n",
       "    <tr>\n",
       "      <th>897</th>\n",
       "      <td>2021-01-13</td>\n",
       "      <td>534.099146</td>\n",
       "    </tr>\n",
       "  </tbody>\n",
       "</table>\n",
       "</div>"
      ],
      "text/plain": [
       "            ds         yhat\n",
       "868 2020-12-15  1100.915749\n",
       "869 2020-12-16  1178.343819\n",
       "870 2020-12-17  1100.773295\n",
       "871 2020-12-18  1190.926560\n",
       "872 2020-12-19  1210.664972\n",
       "873 2020-12-20  1071.674174\n",
       "874 2020-12-21   806.540141\n",
       "875 2020-12-22  1057.901224\n",
       "876 2020-12-23  1118.752971\n",
       "877 2020-12-24  1016.014012\n",
       "878 2020-12-25  1638.705460\n",
       "879 2020-12-26  1071.544736\n",
       "880 2020-12-27   902.657809\n",
       "881 2020-12-28   600.649007\n",
       "882 2020-12-29   808.648225\n",
       "883 2020-12-30   828.145595\n",
       "884 2020-12-31   700.173057\n",
       "885 2021-01-01   766.255369\n",
       "886 2021-01-02   792.788857\n",
       "887 2021-01-03   677.200588\n",
       "888 2021-01-04   426.880999\n",
       "889 2021-01-05   664.153104\n",
       "890 2021-01-06   680.437244\n",
       "891 2021-01-07   522.580846\n",
       "892 2021-01-08   550.508477\n",
       "893 2021-01-09   551.672420\n",
       "894 2021-01-10   436.326665\n",
       "895 2021-01-11   210.756367\n",
       "896 2021-01-12   484.683265\n",
       "897 2021-01-13   534.099146"
      ]
     },
     "execution_count": 43,
     "metadata": {},
     "output_type": "execute_result"
    }
   ],
   "source": [
    "forecast = model.predict(future)\n",
    "forecast.tail(30)[['ds', 'yhat']]"
   ]
  },
  {
   "cell_type": "code",
   "execution_count": 44,
   "id": "d8b259c2",
   "metadata": {},
   "outputs": [],
   "source": [
    "def model_and_forecast_sales(db_con):\n",
    "    \n",
    "    model = Prophet()\n",
    "    model.add_country_holidays(country_name='US')\n",
    "    model.add_seasonality(name='monthly', period=30.5, fourier_order=4)\n",
    "    \n",
    "    model_df = pd.read_sql('SELECT * FROM daily_sales;', db_con)\n",
    "    \n",
    "    model.fit(model_df)\n",
    "    \n",
    "    future = model.make_future_dataframe(periods=30)\n",
    "    \n",
    "    forecast = model.predict(future)\n",
    "    \n",
    "    assert len(forecast) == len(model_df) + 30\n",
    "    \n",
    "    return forecast"
   ]
  },
  {
   "cell_type": "code",
   "execution_count": null,
   "id": "c2e3026c",
   "metadata": {},
   "outputs": [],
   "source": []
  }
 ],
 "metadata": {
  "kernelspec": {
   "display_name": "batch-env",
   "language": "python",
   "name": "batch-env"
  },
  "language_info": {
   "codemirror_mode": {
    "name": "ipython",
    "version": 3
   },
   "file_extension": ".py",
   "mimetype": "text/x-python",
   "name": "python",
   "nbconvert_exporter": "python",
   "pygments_lexer": "ipython3",
   "version": "3.10.8"
  }
 },
 "nbformat": 4,
 "nbformat_minor": 5
}
